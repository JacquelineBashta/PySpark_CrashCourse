{
 "cells": [
  {
   "cell_type": "code",
   "execution_count": 1,
   "metadata": {},
   "outputs": [
    {
     "data": {
      "text/html": [
       "\n",
       "            <div>\n",
       "                <p><b>SparkSession - in-memory</b></p>\n",
       "                \n",
       "        <div>\n",
       "            <p><b>SparkContext</b></p>\n",
       "\n",
       "            <p><a href=\"http://Jojja.fritz.box:4041\">Spark UI</a></p>\n",
       "\n",
       "            <dl>\n",
       "              <dt>Version</dt>\n",
       "                <dd><code>v3.5.1</code></dd>\n",
       "              <dt>Master</dt>\n",
       "                <dd><code>local[*]</code></dd>\n",
       "              <dt>AppName</dt>\n",
       "                <dd><code>pyspark-shell</code></dd>\n",
       "            </dl>\n",
       "        </div>\n",
       "        \n",
       "            </div>\n",
       "        "
      ],
      "text/plain": [
       "<pyspark.sql.session.SparkSession at 0x1f9b589b790>"
      ]
     },
     "execution_count": 1,
     "metadata": {},
     "output_type": "execute_result"
    }
   ],
   "source": [
    "from pyspark.sql import SparkSession\n",
    "spark = SparkSession.builder.master(\"local[*]\").getOrCreate()\n",
    "spark"
   ]
  },
  {
   "cell_type": "code",
   "execution_count": 2,
   "metadata": {},
   "outputs": [],
   "source": [
    "from pyspark.sql import functions as F\n",
    "from pyspark.sql import types as T"
   ]
  },
  {
   "cell_type": "code",
   "execution_count": 6,
   "metadata": {},
   "outputs": [],
   "source": [
    "my_schema = T.StructType([\n",
    "        T.StructField(\"ip_address\",T.StringType()),\n",
    "        T.StructField(\"country\",T.StringType()),\n",
    "        T.StructField(\"domain_name\",T.StringType()),\n",
    "        T.StructField(\"bytes_used\",T.IntegerType())\n",
    "    ]\n",
    ")"
   ]
  },
  {
   "cell_type": "code",
   "execution_count": 7,
   "metadata": {},
   "outputs": [
    {
     "name": "stdout",
     "output_type": "stream",
     "text": [
      "+---------------+--------------+-----------------+----------+\n",
      "|     ip_address|       country|      domain_name|bytes_used|\n",
      "+---------------+--------------+-----------------+----------+\n",
      "|  52.81.192.172|         China| odnoklassniki.ru|       463|\n",
      "| 119.239.207.13|         China|         youtu.be|        51|\n",
      "|  68.69.217.210|         China|        adobe.com|        10|\n",
      "|   7.191.21.223|      Bulgaria|     linkedin.com|       853|\n",
      "|   211.13.10.68|     Indonesia|          hud.gov|        29|\n",
      "|   239.80.21.97|      Suriname|       smh.com.au|       218|\n",
      "|106.214.106.233|       Jamaica|    amazonaws.com|        95|\n",
      "| 127.242.24.138|         China| surveymonkey.com|       123|\n",
      "|     99.2.6.139|Czech Republic|     geocities.jp|       322|\n",
      "|   237.54.11.63|         China|       amazon.com|        83|\n",
      "| 252.141.157.25|         Japan|      cornell.edu|       374|\n",
      "|185.220.128.248|       Belgium|       weebly.com|       389|\n",
      "|   151.77.19.45|   Afghanistan|independent.co.uk|       282|\n",
      "|  9.161.158.225|     Indonesia|    bloglines.com|       726|\n",
      "| 156.144.61.155|Czech Republic|   slideshare.net|       657|\n",
      "|   8.96.188.151|     Indonesia|          ibm.com|       517|\n",
      "|      5.72.7.65|        Mexico|         youtu.be|       877|\n",
      "|227.110.112.144|       Croatia|         ehow.com|       287|\n",
      "|    81.71.28.97|      Thailand|          last.fm|       588|\n",
      "|  9.255.129.184|      Thailand|          mtv.com|       114|\n",
      "+---------------+--------------+-----------------+----------+\n",
      "only showing top 20 rows\n",
      "\n"
     ]
    }
   ],
   "source": [
    "df=spark.read.csv(\"challenge.csv\", header=True,schema=my_schema)\n",
    "df.show()"
   ]
  },
  {
   "cell_type": "code",
   "execution_count": 8,
   "metadata": {},
   "outputs": [
    {
     "data": {
      "text/plain": [
       "[('ip_address', 'string'),\n",
       " ('country', 'string'),\n",
       " ('domain_name', 'string'),\n",
       " ('bytes_used', 'int')]"
      ]
     },
     "execution_count": 8,
     "metadata": {},
     "output_type": "execute_result"
    }
   ],
   "source": [
    "df.dtypes"
   ]
  },
  {
   "cell_type": "code",
   "execution_count": 11,
   "metadata": {},
   "outputs": [],
   "source": [
    "df = df.withColumn(\"is_Mexico\",F.when(df.country.like(\"_exico\"),\"Yes\").otherwise(\"No\"))"
   ]
  },
  {
   "cell_type": "code",
   "execution_count": 12,
   "metadata": {},
   "outputs": [
    {
     "name": "stdout",
     "output_type": "stream",
     "text": [
      "+---------+--------------+\n",
      "|is_Mexico|bytes_used_sum|\n",
      "+---------+--------------+\n",
      "|       No|        508076|\n",
      "|      Yes|          6293|\n",
      "+---------+--------------+\n",
      "\n"
     ]
    }
   ],
   "source": [
    "df.groupBy(df.is_Mexico).agg(F.sum(df.bytes_used).alias(\"bytes_used_sum\")).show()"
   ]
  },
  {
   "cell_type": "code",
   "execution_count": 26,
   "metadata": {},
   "outputs": [
    {
     "name": "stdout",
     "output_type": "stream",
     "text": [
      "+--------------+------------+\n",
      "|       country|distinct_ips|\n",
      "+--------------+------------+\n",
      "|         China|         172|\n",
      "|     Indonesia|         114|\n",
      "|   Philippines|          65|\n",
      "|        Russia|          56|\n",
      "|        Brazil|          35|\n",
      "|        Poland|          31|\n",
      "|        Sweden|          28|\n",
      "|         Japan|          25|\n",
      "|Czech Republic|          23|\n",
      "|      Portugal|          23|\n",
      "|        France|          21|\n",
      "|          Peru|          19|\n",
      "|      Colombia|          17|\n",
      "| United States|          15|\n",
      "|     Argentina|          14|\n",
      "|       Ukraine|          14|\n",
      "|        Mexico|          13|\n",
      "|      Thailand|          12|\n",
      "|       Nigeria|          11|\n",
      "|        Canada|          11|\n",
      "+--------------+------------+\n",
      "only showing top 20 rows\n",
      "\n"
     ]
    }
   ],
   "source": [
    "df.groupBy(df.country).agg(F.countDistinct(df.ip_address).alias(\"distinct_ips\")).sort(F.col(\"distinct_ips\").desc()).show()"
   ]
  },
  {
   "cell_type": "code",
   "execution_count": 21,
   "metadata": {},
   "outputs": [
    {
     "name": "stdout",
     "output_type": "stream",
     "text": [
      "+-----------------+-----+\n",
      "|      domain_name|count|\n",
      "+-----------------+-----+\n",
      "|    xinhuanet.com|    1|\n",
      "|   whitehouse.gov|    1|\n",
      "|     illinois.edu|    1|\n",
      "|     bluehost.com|    1|\n",
      "|      blogger.com|    1|\n",
      "|independent.co.uk|    1|\n",
      "|      youtube.com|    1|\n",
      "|       elpais.com|    1|\n",
      "|    cafepress.com|    1|\n",
      "|    artisteer.com|    1|\n",
      "|         etsy.com|    1|\n",
      "|   indiatimes.com|    1|\n",
      "|       ebay.co.uk|    1|\n",
      "|       disqus.com|    1|\n",
      "|      samsung.com|    1|\n",
      "|          tiny.cc|    1|\n",
      "|deliciousdays.com|    1|\n",
      "|             t.co|    1|\n",
      "|         1und1.de|    1|\n",
      "|    bigcartel.com|    1|\n",
      "+-----------------+-----+\n",
      "only showing top 20 rows\n",
      "\n"
     ]
    }
   ],
   "source": [
    "df.groupBy(df.domain_name).agg(F.countDistinct(df.domain_name).alias(\"count\")).show()"
   ]
  }
 ],
 "metadata": {
  "kernelspec": {
   "display_name": "Python 3",
   "language": "python",
   "name": "python3"
  },
  "language_info": {
   "codemirror_mode": {
    "name": "ipython",
    "version": 3
   },
   "file_extension": ".py",
   "mimetype": "text/x-python",
   "name": "python",
   "nbconvert_exporter": "python",
   "pygments_lexer": "ipython3",
   "version": "3.11.2"
  }
 },
 "nbformat": 4,
 "nbformat_minor": 2
}

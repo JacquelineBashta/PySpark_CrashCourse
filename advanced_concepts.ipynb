{
 "cells": [
  {
   "cell_type": "markdown",
   "metadata": {},
   "source": [
    "### partion vs parquet saving vs distributed\n",
    "\n",
    "\n",
    "When you use PySpark's DataFrame API and save the data to Parquet format, the data is stored in a distributed manner across multiple files/partitions. The distribution is primarily based on the number of partitions of the DataFrame, which can be controlled by the partitioning strategy you specify or by the default behavior of Spark.\n",
    "\n",
    "Here's how it works:\n",
    "\n",
    "#### Partitioning in PySpark DataFrames:\n",
    "PySpark DataFrames are composed of partitions, which are chunks of data distributed across the worker nodes in a Spark cluster. Each partition represents a subset of the data.\n",
    "By default, when you create a DataFrame from a source (e.g., reading from a file), Spark will partition the data based on the number of input partitions. For example, if you read a file with 4 input partitions, Spark will create a DataFrame with 4 partitions by default.\n",
    "You can control the partitioning explicitly using functions like repartition() or partitionBy(). These functions allow you to specify the number of partitions or the column(s) to partition by, respectively.\n",
    "\n",
    "#### Saving DataFrame to Parquet:\n",
    "When you save a PySpark DataFrame to Parquet format using df.write.parquet(), Spark writes the data to multiple Parquet files, with each file corresponding to a partition of the DataFrame.\n",
    "The Parquet files are typically saved to a distributed file system (e.g., HDFS, S3), and the distribution of data across these files is determined by the distribution of partitions in the DataFrame.\n",
    "\n",
    "#### Distribution of Data:\n",
    "Each Parquet file contains a subset of the rows and columns from the original DataFrame, based on the partitioning scheme.\n",
    "The distribution of data across the Parquet files is primarily based on the partitioning strategy of the DataFrame. If the DataFrame is partitioned by a specific column(s), Spark will try to group similar data together based on the values of that column(s).\n",
    "Additionally, Parquet's columnar storage format further optimizes storage and processing by storing data for each column together, which allows for efficient compression and encoding techniques to be applied.\n",
    "\n",
    "In summary, when you save a PySpark DataFrame to Parquet format, the data is distributed across multiple Parquet files based on the partitioning scheme of the DataFrame. The distribution can be based on rows, columns, or both, depending on how the DataFrame is partitioned."
   ]
  },
  {
   "cell_type": "markdown",
   "metadata": {},
   "source": [
    "### Relation to Number of executers\n",
    "\n",
    "The number of executors defined in a Spark application is related to how Spark distributes and processes the data across the cluster. The number of executors, along with the number of cores per executor and the amount of memory per executor, determines the overall resource allocation for the Spark application.\n",
    "\n",
    "Here's how the number of executors can impact the distribution and processing of data:\n",
    "\n",
    "#### Parallelism and Concurrency:\n",
    "Each executor in Spark runs as a separate JVM process and is responsible for processing a subset of the data.\n",
    "The number of executors, along with the number of cores per executor, determines the degree of parallelism in the Spark application. More executors and cores lead to higher parallelism, allowing Spark to process data more quickly.\n",
    "\n",
    "#### Task Distribution:\n",
    "Spark breaks down data processing tasks into smaller units called tasks, which are executed by individual executor cores.\n",
    "The number of executors affects the distribution of tasks across the cluster. Spark tries to evenly distribute tasks across all available executors to achieve balanced workload distribution.\n",
    "\n",
    "#### Data Partitioning:\n",
    "The number of partitions in a DataFrame, which can be influenced by the number of executors and the partitioning strategy, determines how data is distributed across the cluster.\n",
    "Spark tries to assign partitions to executors in a way that maximizes data locality, minimizing data shuffling and network overhead.\n",
    "\n",
    "#### Resource Utilization:\n",
    "The number of executors impacts the overall resource utilization of the Spark application. Each executor consumes memory and CPU resources, so you need to carefully manage the number of executors to avoid resource contention and underutilization.\n",
    "\n",
    "\n",
    "In summary, the number of executors in a Spark application plays a crucial role in determining the parallelism, task distribution, data partitioning, and resource utilization. By adjusting the number of executors based on the characteristics of your data and cluster, you can optimize the performance and efficiency of your Spark application."
   ]
  },
  {
   "cell_type": "code",
   "execution_count": null,
   "metadata": {},
   "outputs": [],
   "source": [
    "\n"
   ]
  },
  {
   "cell_type": "markdown",
   "metadata": {},
   "source": [
    "# Partioning and compression of output"
   ]
  }
 ],
 "metadata": {
  "language_info": {
   "name": "python"
  }
 },
 "nbformat": 4,
 "nbformat_minor": 2
}
